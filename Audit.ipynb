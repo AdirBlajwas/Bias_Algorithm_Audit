{
 "cells": [
  {
   "cell_type": "code",
   "execution_count": 1,
   "metadata": {
    "ExecuteTime": {
     "end_time": "2024-06-29T19:49:40.280035500Z",
     "start_time": "2024-06-29T19:49:28.197365900Z"
    }
   },
   "outputs": [],
   "source": [
    "import pandas as pd\n",
    "import numpy as np\n",
    "from sklearn.model_selection import train_test_split\n",
    "from sklearn.neighbors import KNeighborsRegressor\n",
    "from sklearn.neighbors import KNeighborsClassifier\n",
    "from scipy.stats import ttest_ind\n",
    "from sklearn.preprocessing import LabelEncoder\n"
   ]
  },
  {
   "cell_type": "markdown",
   "metadata": {},
   "source": [
    "### Analyzing Bias Towards Women in Banking Data\n",
    "\n",
    "The model analyzes a CSV of banking data to detect potential bias towards women. It follows these steps:\n",
    "\n",
    "1. **Preprocessing**: Reads the data, sets 'CustomerID' as the index, and encodes categorical columns.\n",
    "2. **Sampling**: Samples 10% of the records, swapping genders (males to females and vice versa).\n",
    "3. **Prediction**: Uses KNN to predict the decision (label) for the modified data.\n",
    "4. **Grouping**: Groups all males and females from both original and modified data.\n",
    "5. **T-test**: Compares means of decision labels to check for significant differences, indicating potential bias towards males.\n"
   ]
  },
  {
   "cell_type": "markdown",
   "metadata": {},
   "source": [
    "# Parameters"
   ]
  },
  {
   "cell_type": "code",
   "execution_count": 2,
   "metadata": {
    "ExecuteTime": {
     "end_time": "2024-06-29T19:49:40.296310100Z",
     "start_time": "2024-06-29T19:49:40.290261900Z"
    }
   },
   "outputs": [],
   "source": [
    "# Choose biased or unbiased input file here (comment out the non-desired one):\n",
    "\n",
    "#not biased input\n",
    "# csv_path = 'unbiased_input.csv'\n",
    "\n",
    "#biased input\n",
    "csv_path = 'data_biased_output.csv'\n",
    "\n",
    "\n",
    "label_column = 'Decision'\n",
    "\n",
    "#knn classifier hyper parameter\n",
    "k = 5\n"
   ]
  },
  {
   "cell_type": "markdown",
   "metadata": {},
   "source": [
    "# Pre-process"
   ]
  },
  {
   "cell_type": "code",
   "execution_count": 3,
   "metadata": {
    "ExecuteTime": {
     "end_time": "2024-06-29T19:49:40.424399300Z",
     "start_time": "2024-06-29T19:49:40.308980500Z"
    }
   },
   "outputs": [],
   "source": [
    "\n",
    "\n",
    "def preprocess_data(csv_path, label_column):\n",
    "    # Step 1: Read CSV into DataFrame\n",
    "    df = pd.read_csv(csv_path)\n",
    "    \n",
    "    # Step 2: Set 'Customer' as index\n",
    "    df.set_index('CustomerID', inplace=True)\n",
    "    \n",
    "    # Step 3: Encode categorical text columns\n",
    "    label_encoders = {}\n",
    "    for column in df.columns:\n",
    "        if df[column].dtype == 'object':\n",
    "            label_encoders[column] = LabelEncoder()\n",
    "            df[column] = label_encoders[column].fit_transform(df[column])\n",
    "\n",
    "                \n",
    "    # Step 4: Separate label and features\n",
    "    y = df[label_column]\n",
    "    X = df.drop(columns=[label_column])\n",
    "\n",
    "    return X, y, label_encoders\n",
    "    \n",
    "\n",
    "X, y, label_encoders = preprocess_data(csv_path, label_column)\n"
   ]
  },
  {
   "cell_type": "markdown",
   "metadata": {},
   "source": [
    "# Knn algorithm\n",
    "\n",
    "Train Knn, sample test data, manipulate the data and predict the new labels\n",
    "devide the data into the distribution of labels between males and females"
   ]
  },
  {
   "cell_type": "code",
   "execution_count": 4,
   "metadata": {
    "ExecuteTime": {
     "end_time": "2024-06-29T19:49:40.484295200Z",
     "start_time": "2024-06-29T19:49:40.433836900Z"
    }
   },
   "outputs": [],
   "source": [
    "def knn_algorithm(X, y, label_encoders, label_column, k):\n",
    " \n",
    "\n",
    "    # Step 1: Sample 10% of the data for testing\n",
    "    X_train, X_test, y_train, y_test = train_test_split(X, y, test_size=0.1, random_state=42)\n",
    "    \n",
    "    # Step 2: Reverse the 'gender' column in the test set\n",
    "\n",
    "    X_test_modified = X_test.copy()\n",
    "    y_test_modified = y_test.copy()\n",
    "    X_test_modified['Gender']= X_test_modified['Gender'].apply(lambda x: 1 - x)\n",
    "\n",
    "    # Step 3: Perform KNN\n",
    "    knn = KNeighborsClassifier(n_neighbors=k)\n",
    "    knn.fit(X_train, y_train)\n",
    "\n",
    "    # Step 4: Predict the modified test set\n",
    "    y_modified_pred = knn.predict(X_test_modified)\n",
    "\n",
    "\n",
    "    # Step 8: define y_male, y_female the decision distribution for males and females\n",
    "    y_test_male = y_test[X_test['Gender'] == 1].values\n",
    "    y_modified_male = y_modified_pred[X_test_modified['Gender'] == 1]\n",
    "    y_male = np.concatenate((y_test_male, y_modified_male))\n",
    "    y_test_female = y_test[X_test['Gender'] == 0].values\n",
    "    y_modified_female = y_modified_pred[X_test_modified['Gender'] == 0]\n",
    "    y_female = np.concatenate((y_test_female, y_modified_female))\n",
    "    return y_male, y_female\n",
    "\n",
    "\n",
    "y_male, y_female = knn_algorithm(X, y, label_encoders, label_column, k)\n"
   ]
  },
  {
   "cell_type": "markdown",
   "metadata": {},
   "source": [
    "# Analyze Results and perform T-test"
   ]
  },
  {
   "cell_type": "code",
   "execution_count": 5,
   "metadata": {
    "ExecuteTime": {
     "end_time": "2024-06-29T19:49:40.554764700Z",
     "start_time": "2024-06-29T19:49:40.489695200Z"
    }
   },
   "outputs": [
    {
     "name": "stdout",
     "output_type": "stream",
     "text": [
      "male mean:  0.454\n",
      "female mean: 0.300\n",
      "T-statistic: 2.582, P-value: 0.010\n"
     ]
    }
   ],
   "source": [
    "\n",
    "mean_male = np.mean(y_male)\n",
    "mean_female = np.mean(y_female)\n",
    "print(f\"male mean:  {mean_male:.3f}\")\n",
    "print(f\"female mean: {mean_female:.3f}\")\n",
    "t_stat, p_value = ttest_ind(y_male, y_female)\n",
    "print(f\"T-statistic: {t_stat:.3f}, P-value: {p_value:.3f}\")\n"
   ]
  },
  {
   "cell_type": "code",
   "execution_count": 5,
   "outputs": [],
   "source": [],
   "metadata": {
    "collapsed": false,
    "ExecuteTime": {
     "end_time": "2024-06-29T19:49:40.565989600Z",
     "start_time": "2024-06-29T19:49:40.521354400Z"
    }
   }
  },
  {
   "cell_type": "code",
   "execution_count": null,
   "outputs": [],
   "source": [],
   "metadata": {
    "collapsed": false
   }
  }
 ],
 "metadata": {
  "kernelspec": {
   "display_name": "Python 3",
   "language": "python",
   "name": "python3"
  },
  "language_info": {
   "codemirror_mode": {
    "name": "ipython",
    "version": 3
   },
   "file_extension": ".py",
   "mimetype": "text/x-python",
   "name": "python",
   "nbconvert_exporter": "python",
   "pygments_lexer": "ipython3",
   "version": "3.8.10"
  }
 },
 "nbformat": 4,
 "nbformat_minor": 2
}
